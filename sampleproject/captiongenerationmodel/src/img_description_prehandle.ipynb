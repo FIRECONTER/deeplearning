{
 "cells": [
  {
   "cell_type": "code",
   "execution_count": 1,
   "metadata": {},
   "outputs": [
    {
     "data": {
      "text/plain": [
       "'\\nDescription: save all the image description data to a json file\\nAuthor: allocator\\n'"
      ]
     },
     "execution_count": 1,
     "metadata": {},
     "output_type": "execute_result"
    }
   ],
   "source": [
    "# -*- coding:utf-8 -*-\n",
    "\"\"\"\n",
    "Description: save all the image description data to a json file\n",
    "Author: allocator\n",
    "\"\"\""
   ]
  },
  {
   "cell_type": "code",
   "execution_count": 2,
   "metadata": {
    "collapsed": true
   },
   "outputs": [],
   "source": [
    "import string\n",
    "import os\n",
    "import json"
   ]
  },
  {
   "cell_type": "code",
   "execution_count": 3,
   "metadata": {
    "collapsed": true
   },
   "outputs": [],
   "source": [
    "descs_dir = '../data/txt'\n",
    "imgs_dir = '../data/img'\n",
    "output_txt_dir = '../data/clean_txt'\n",
    "output_txt_filename = 'image_descs.json'"
   ]
  },
  {
   "cell_type": "code",
   "execution_count": 4,
   "metadata": {
    "collapsed": true
   },
   "outputs": [],
   "source": [
    "# load file\n",
    "def load_txt(filename):\n",
    "    \"\"\"Load txt about current file.\"\"\"\n",
    "    with open(os.path.join(descs_dir, filename), 'r') as f:\n",
    "        text = f.readlines()\n",
    "        return text"
   ]
  },
  {
   "cell_type": "code",
   "execution_count": 5,
   "metadata": {
    "collapsed": true
   },
   "outputs": [],
   "source": [
    "def clean_tokens(tokens):\n",
    "    \"\"\"Clean the description of each picture.\"\"\"\n",
    "    # generate the translate table to remove the punctuation of the word\n",
    "    trans_table = str.maketrans('', '', string.punctuation)\n",
    "    # change the word to lower\n",
    "    tokens = [word.lower() for word in tokens]\n",
    "    # use the table to remove the punctuation\n",
    "    tokens = [word.translate(trans_table) for word in tokens]\n",
    "    # remove the 'a' and 'A'\n",
    "    tokens = [word for word in tokens if len(word) > 1]\n",
    "    return tokens"
   ]
  },
  {
   "cell_type": "code",
   "execution_count": 6,
   "metadata": {
    "collapsed": true
   },
   "outputs": [],
   "source": [
    "# save the description dict\n",
    "def save_image_desc_dict(filename, image_dict):\n",
    "    \"\"\"Save the image_desc_dict as a json file.\"\"\"\n",
    "    json.dump(image_dict, open(os.path.join(output_txt_dir, filename), 'w'))"
   ]
  },
  {
   "cell_type": "code",
   "execution_count": 7,
   "metadata": {
    "collapsed": true
   },
   "outputs": [],
   "source": [
    "def generate_image_desc_dict(filename, image_dict):\n",
    "    \"\"\"Load description from the src text photo id and the description.\"\"\"\n",
    "    image_id = filename.split('.')[0]\n",
    "    text = load_txt(filename)\n",
    "    all_tokens = []\n",
    "    for line in text:\n",
    "        # get all the tokens\n",
    "        tokens = line.replace('\\n', '').split()\n",
    "        if len(tokens) < 2:\n",
    "            continue\n",
    "        # if the tokens just contains the img id so continue\n",
    "        all_tokens += tokens\n",
    "    # clean_tokens\n",
    "    all_tokens = clean_tokens(all_tokens)\n",
    "    if image_id not in image_dict:\n",
    "        image_dict[image_id] = all_tokens\n",
    "    return image_dict"
   ]
  },
  {
   "cell_type": "code",
   "execution_count": 8,
   "metadata": {},
   "outputs": [
    {
     "name": "stdout",
     "output_type": "stream",
     "text": [
      "current text data vocabulary is 8265 \n"
     ]
    }
   ],
   "source": [
    "# test current result\n",
    "file_list = os.listdir(descs_dir)\n",
    "image_dict = {}\n",
    "for filename in file_list:\n",
    "    image_dict = generate_image_desc_dict(filename, image_dict)\n",
    "# save the image_dict\n",
    "save_image_desc_dict(output_txt_filename, image_dict)\n",
    "\n",
    "# calculate the word vocabulary\n",
    "voc_list = []\n",
    "for item in image_dict.values():\n",
    "    voc_list += item\n",
    "vocabulary = set(voc_list)\n",
    "print('current text data vocabulary is %d ' % len(vocabulary))\n",
    "# vocabulary = set(' '.join(clean_desc.values()).split())\n",
    "# print(' the vocabulary size is %d ' % len(vocabulary))"
   ]
  },
  {
   "cell_type": "code",
   "execution_count": null,
   "metadata": {
    "collapsed": true
   },
   "outputs": [],
   "source": []
  }
 ],
 "metadata": {
  "kernelspec": {
   "display_name": "Python 3",
   "language": "python",
   "name": "python3"
  },
  "language_info": {
   "codemirror_mode": {
    "name": "ipython",
    "version": 3
   },
   "file_extension": ".py",
   "mimetype": "text/x-python",
   "name": "python",
   "nbconvert_exporter": "python",
   "pygments_lexer": "ipython3",
   "version": "3.5.4"
  }
 },
 "nbformat": 4,
 "nbformat_minor": 1
}
