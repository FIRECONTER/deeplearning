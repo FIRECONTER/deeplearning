{
 "cells": [
  {
   "cell_type": "code",
   "execution_count": null,
   "metadata": {},
   "outputs": [],
   "source": [
    "# -*- coding:utf-8 -*-\n",
    "\"\"\"\n",
    "Description: image caption generation model training\n",
    "Author: allocator\n",
    "\"\"\""
   ]
  },
  {
   "cell_type": "code",
   "execution_count": null,
   "metadata": {},
   "outputs": [],
   "source": [
    "from keras.layers import Dense\n",
    "import string"
   ]
  },
  {
   "cell_type": "code",
   "execution_count": null,
   "metadata": {},
   "outputs": [],
   "source": [
    "def load_txt(filename):\n",
    "    \"\"\"Load the text of the picture.\"\"\"\n",
    "    with open(filename, 'r') as f:\n",
    "        text = f.read()\n",
    "    return text"
   ]
  },
  {
   "cell_type": "code",
   "execution_count": null,
   "metadata": {},
   "outputs": [],
   "source": [
    "def load_description(text):\n",
    "    \"\"\"Load description from the src text photo id and the description.\"\"\"\n",
    "    for line in text.split('\\n'):\n",
    "        # get all the tokens\n",
    "        img_dict = {}\n",
    "        tokens = line.split()\n",
    "        if len(tokens) < 2:\n",
    "            continue\n",
    "        # if the tokens just contains the img id so continue\n",
    "        img_id, img_des_token = tokens[0], tokens[1:]\n",
    "        img_des = ' '.join(img_des_token)\n",
    "        if img_id not in img_dict:\n",
    "            img_dict[img_id] = img_des\n",
    "        return img_dict"
   ]
  },
  {
   "cell_type": "code",
   "execution_count": null,
   "metadata": {},
   "outputs": [],
   "source": [
    "def clean_descriptions(description):\n",
    "    \"\"\"Clean the description of each picture.\"\"\"\n",
    "    # generate the translate table to remove the punctuation of the word\n",
    "    trans_table = str.maketrans('', '', string.punctuation)\n",
    "    for key, desc in description.items():\n",
    "        # split the description\n",
    "        desc = desc.split()\n",
    "        # change the word to lower\n",
    "        desc = [word.lower() for word in desc]\n",
    "        # use the table to remove the punctuation\n",
    "        desc = [word.translate(trans_table) for word in desc]\n",
    "        # remove the 'a' and 's'\n",
    "        desc = [word for word in desc in len(word) > 1]\n",
    "        description[key] = ' '.join(desc)\n",
    "        return description"
   ]
  },
  {
   "cell_type": "code",
   "execution_count": null,
   "metadata": {},
   "outputs": [],
   "source": [
    "# test current result\n",
    "filename = 'img_des_tokens.txt'\n",
    "doc = load_txt(filename)\n",
    "descriptions = load_description(doc)\n",
    "# length of the description dict\n",
    "print(' length of the description is %d ' % len(descriptions))\n",
    "clean_desc = clean_descriptions(descriptions)\n",
    "vocabulary = set(' '.join(clean_desc.values()).split())\n",
    "print(' the vocabulary size is %d ' % len(vocabulary))"
   ]
  },
  {
   "cell_type": "code",
   "execution_count": null,
   "metadata": {},
   "outputs": [],
   "source": [
    "# save the description\n",
    "def save_descriptions(filename, descriptions):\n",
    "    \"\"\"Save the descriptions of the file.\"\"\"\n",
    "    lines = []\n",
    "    for key, desc in descriptions.items():\n",
    "        lines.append(key + ' ' + desc)\n",
    "    data = '\\n'.join(lines)\n",
    "    with open(filename, 'w') as f:\n",
    "        f.write(data)"
   ]
  },
  {
   "cell_type": "code",
   "execution_count": null,
   "metadata": {},
   "outputs": [],
   "source": [
    ""
   ]
  }
 ],
 "metadata": {
  "kernelspec": {
   "display_name": "Python 2",
   "language": "python",
   "name": "python2"
  },
  "language_info": {
   "codemirror_mode": {
    "name": "ipython",
    "version": 2.0
   },
   "file_extension": ".py",
   "mimetype": "text/x-python",
   "name": "python",
   "nbconvert_exporter": "python",
   "pygments_lexer": "ipython2",
   "version": "2.7.6"
  }
 },
 "nbformat": 4,
 "nbformat_minor": 0
}