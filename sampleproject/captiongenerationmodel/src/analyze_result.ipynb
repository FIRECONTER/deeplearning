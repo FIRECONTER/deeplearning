{
 "cells": [
  {
   "cell_type": "code",
   "execution_count": 8,
   "metadata": {},
   "outputs": [
    {
     "data": {
      "text/plain": [
       "'\\nDescription: analyze the result of the prediction\\nAuthor: allocator\\nTime: 26/03/2018\\n'"
      ]
     },
     "execution_count": 8,
     "metadata": {},
     "output_type": "execute_result"
    }
   ],
   "source": [
    "# -*- coding:utf-8 -*-\n",
    "\"\"\"\n",
    "Description: analyze the result of the prediction\n",
    "Author: allocator\n",
    "Time: 26/03/2018\n",
    "\"\"\""
   ]
  },
  {
   "cell_type": "code",
   "execution_count": 9,
   "metadata": {
    "collapsed": true
   },
   "outputs": [],
   "source": [
    "import numpy as np\n",
    "import pandas as pd\n",
    "import os"
   ]
  },
  {
   "cell_type": "code",
   "execution_count": 10,
   "metadata": {
    "collapsed": true
   },
   "outputs": [],
   "source": [
    "# analyze the data in csv file\n",
    "input_dir = '../data/res'"
   ]
  },
  {
   "cell_type": "code",
   "execution_count": 11,
   "metadata": {
    "collapsed": true
   },
   "outputs": [],
   "source": [
    "def calculate_res(filename):\n",
    "    obj = {}\n",
    "    res = pd.read_csv(filename)\n",
    "    train_res = res['train']\n",
    "    test_res = res['test']\n",
    "    # calculate the mean and std\n",
    "    obj['train_mean'] = np.mean(train_res)\n",
    "    obj['test_mean'] = np.mean(test_res)\n",
    "    obj['train_std'] = np.std(train_res)\n",
    "    obj['test_std'] = np.std(test_res)\n",
    "    return obj"
   ]
  },
  {
   "cell_type": "code",
   "execution_count": 12,
   "metadata": {
    "collapsed": true
   },
   "outputs": [],
   "source": [
    "# print the result\n",
    "def print_res(res_obj):\n",
    "    for key in res_obj.keys():\n",
    "        print('current train procedure %s and result' % key)\n",
    "        print(res_obj[key])"
   ]
  },
  {
   "cell_type": "code",
   "execution_count": 13,
   "metadata": {
    "collapsed": true
   },
   "outputs": [],
   "source": [
    "# analyze the result of the model\n",
    "def report_result(res_dir):\n",
    "    files = os.listdir(res_dir)\n",
    "    res_obj = {}\n",
    "    for file in files:\n",
    "        res_obj[file] = calculate_res(os.path.join(res_dir, file))\n",
    "    return res_obj"
   ]
  },
  {
   "cell_type": "code",
   "execution_count": 14,
   "metadata": {},
   "outputs": [
    {
     "name": "stdout",
     "output_type": "stream",
     "text": [
      "current train procedure basiccaptionmodel.csv and result\n",
      "{'test_std': 0.0039023449345017528, 'train_mean': 0.04915362591495278, 'test_mean': 0.071811231044112481, 'train_std': 0.028447255540419589}\n"
     ]
    }
   ],
   "source": [
    "# main process\n",
    "res_obj = report_result(input_dir)\n",
    "print_res(res_obj)"
   ]
  }
 ],
 "metadata": {
  "kernelspec": {
   "display_name": "Python 3",
   "language": "python",
   "name": "python3"
  },
  "language_info": {
   "codemirror_mode": {
    "name": "ipython",
    "version": 3
   },
   "file_extension": ".py",
   "mimetype": "text/x-python",
   "name": "python",
   "nbconvert_exporter": "python",
   "pygments_lexer": "ipython3",
   "version": "3.5.4"
  }
 },
 "nbformat": 4,
 "nbformat_minor": 2
}
