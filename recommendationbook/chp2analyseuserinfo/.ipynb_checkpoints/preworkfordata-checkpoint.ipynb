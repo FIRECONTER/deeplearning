{
 "cells": [
  {
   "cell_type": "code",
   "execution_count": 40,
   "metadata": {},
   "outputs": [
    {
     "data": {
      "text/plain": [
       "'\\nPrework for the movielens data set.\\n\\nDescription:\\n    1) combine the current source data and generate the training data and test data\\n    2) use random to split the whole sample data to training data and test data\\nAuthor:alex\\nTime:30/11/2017\\n'"
      ]
     },
     "execution_count": 40,
     "metadata": {},
     "output_type": "execute_result"
    }
   ],
   "source": [
    "# -*- coding:utf-8 -*-\n",
    "\"\"\"\n",
    "Prework for the movielens data set.\n",
    "\n",
    "Description:\n",
    "    1) combine the current source data and generate the training data and test data\n",
    "    2) use random to split the whole sample data to training data and test data\n",
    "Author:alex\n",
    "Time:30/11/2017\n",
    "\"\"\""
   ]
  },
  {
   "cell_type": "code",
   "execution_count": 41,
   "metadata": {
    "collapsed": true
   },
   "outputs": [],
   "source": [
    "import numpy as np\n",
    "import numpy.random as rd\n",
    "import os\n",
    "import pandas as pd\n",
    "import csv\n",
    "import json"
   ]
  },
  {
   "cell_type": "code",
   "execution_count": 42,
   "metadata": {
    "collapsed": true
   },
   "outputs": [],
   "source": [
    "# input and output\n",
    "srcdir = '../dataset/movielens'\n",
    "outdir = './recomfolder'\n",
    "links_file_path = os.path.join(srcdir, 'links.csv')\n",
    "movies_file_path = os.path.join(srcdir, 'movies.csv')\n",
    "ratings_file_path = os.path.join(srcdir, 'ratings.csv')\n",
    "tags_file_path = os.path.join(srcdir, 'tags.csv')\n",
    "genome_scores_file_path = os.path.join(srcdir, 'genome-scores.csv')  # large file\n",
    "genome_tags_file_path = os.path.join(srcdir, 'genome-tags.csv')"
   ]
  },
  {
   "cell_type": "code",
   "execution_count": 43,
   "metadata": {},
   "outputs": [
    {
     "data": {
      "text/plain": [
       "\"READ_LEN = 10\\ngen_score_pre_data = []\\nwith open(genome_scores_file_path, 'r') as file:\\n    reader = csv.reader(file)\\n    for id, item in enumerate(reader):\\n        gen_score_pre_data.append(item)\\n        if id == READ_LEN-1:\\n            break\\nprint(gen_score_pre_data)  # no use\\n\""
      ]
     },
     "execution_count": 43,
     "metadata": {},
     "output_type": "execute_result"
    }
   ],
   "source": [
    "\"\"\"READ_LEN = 10\n",
    "gen_score_pre_data = []\n",
    "with open(genome_scores_file_path, 'r') as file:\n",
    "    reader = csv.reader(file)\n",
    "    for id, item in enumerate(reader):\n",
    "        gen_score_pre_data.append(item)\n",
    "        if id == READ_LEN-1:\n",
    "            break\n",
    "print(gen_score_pre_data)  # no use\n",
    "\"\"\""
   ]
  },
  {
   "cell_type": "code",
   "execution_count": 44,
   "metadata": {
    "collapsed": true
   },
   "outputs": [],
   "source": [
    "# mod of the current data\n",
    "# tags.csv userId,movieId,tag,timestamp that means the user and related movies  \n",
    "# ratings.csv userId,movieId,rating,timestamp user to movie rating score\n",
    "# movies.csv movieId,title,genres # genres means the type of the movie comedy / fantasy\n",
    "# links.csv movieId, imdbId, tmdbId no use\n",
    "# genome-tags.csv tagId tag contains all the tags\n",
    "# genome-scores.csv movieId, tagOd and  relevance"
   ]
  },
  {
   "cell_type": "code",
   "execution_count": 45,
   "metadata": {
    "collapsed": true
   },
   "outputs": [],
   "source": [
    "# preview\n",
    "#links_data = pd.read_csv(links_file_path)\n",
    "#movies_data = pd.read_csv(movies_file_path)\n",
    "ratings_data = pd.read_csv(ratings_file_path)\n",
    "#tags_data = pd.read_csv(tags_file_path)\n",
    "#genome_tags_data = pd.read_csv(genome_tags_file_path)"
   ]
  },
  {
   "cell_type": "code",
   "execution_count": 46,
   "metadata": {
    "collapsed": true
   },
   "outputs": [],
   "source": [
    "# deal with the pandas data\n",
    "userIds = ratings_data['userId'].values\n",
    "movieIds = ratings_data['movieId'].values\n",
    "ratings = ratings_data['rating'].values\n"
   ]
  },
  {
   "cell_type": "code",
   "execution_count": 47,
   "metadata": {
    "collapsed": true
   },
   "outputs": [],
   "source": [
    "user_movie = {}\n",
    "user_movie_list = []\n",
    "for uid, mid in zip(userIds, movieIds):\n",
    "    if uid not in user_movie:\n",
    "        user_movie[uid] = set()\n",
    "    user_movie[uid].add(mid)\n",
    "for key in user_movie.keys():\n",
    "    user_movie_list.append([key, list(user_movie[key])])"
   ]
  },
  {
   "cell_type": "code",
   "execution_count": 48,
   "metadata": {
    "collapsed": true
   },
   "outputs": [],
   "source": [
    "# define random select function\n",
    "# from the source rating data to generate the traindata and \n",
    "# generate randint id list and choose the random item from the log information\n",
    "def getlikelist(arr):\n",
    "    arrlen = len(arr)\n",
    "    tmp = rd.randint(1, arrlen+1)\n",
    "    size = int(tmp/3) if tmp > 2 else tmp\n",
    "    curridlist = rd.randint(0, arrlen, size=size)\n",
    "    res = []\n",
    "    for id in curridlist:\n",
    "        res.append(arr[id])\n",
    "    return res"
   ]
  },
  {
   "cell_type": "code",
   "execution_count": 49,
   "metadata": {
    "collapsed": true
   },
   "outputs": [],
   "source": [
    "# define the generate function\n",
    "def generateexpdata(user_movie_list, seed):\n",
    "    rd.seed(seed)\n",
    "    for item in user_movie_list:\n",
    "        item.append(getlikelist(item[1]))\n",
    "    columns = ['userId','viewlist','likelist']\n",
    "    return pd.DataFrame(user_movie_list, columns=columns)"
   ]
  },
  {
   "cell_type": "code",
   "execution_count": 51,
   "metadata": {
    "collapsed": true
   },
   "outputs": [],
   "source": [
    "# call the split function and save the data as json\n",
    "resultdata = generateexpdata(user_movie_list, 20)\n"
   ]
  },
  {
   "cell_type": "code",
   "execution_count": 60,
   "metadata": {
    "collapsed": true
   },
   "outputs": [],
   "source": [
    "if not os.path.exists(outdir):\n",
    "    os.makedirs(outdir)\n",
    "outputfilename = 'user_movie.csv'\n",
    "resultdata.to_csv(os.path.join(outdir,outputfilename), sep='|')"
   ]
  },
  {
   "cell_type": "code",
   "execution_count": 58,
   "metadata": {},
   "outputs": [
    {
     "name": "stdout",
     "output_type": "stream",
     "text": [
      "like list \n",
      "0    [2100, 5039, 4993, 3996, 1240, 1097, 2762, 199...\n",
      "1                    [1580, 1214, 3450, 908, 541, 110]\n",
      "Name: likelist, dtype: object\n",
      "view list\n",
      "0    [2, 3081, 4105, 1036, 5146, 541, 29, 32, 4128,...\n",
      "1    [3, 260, 2948, 2951, 1544, 1673, 266, 908, 245...\n",
      "Name: viewlist, dtype: object\n"
     ]
    }
   ],
   "source": [
    "t = resultdata.head(2)\n",
    "print('like list ')\n",
    "print(t['likelist'])\n",
    "print('view list')\n",
    "print(t['viewlist'])"
   ]
  },
  {
   "cell_type": "code",
   "execution_count": null,
   "metadata": {
    "collapsed": true
   },
   "outputs": [],
   "source": []
  }
 ],
 "metadata": {
  "kernelspec": {
   "display_name": "Python 3",
   "language": "python",
   "name": "python3"
  },
  "language_info": {
   "codemirror_mode": {
    "name": "ipython",
    "version": 3
   },
   "file_extension": ".py",
   "mimetype": "text/x-python",
   "name": "python",
   "nbconvert_exporter": "python",
   "pygments_lexer": "ipython3",
   "version": "3.6.0"
  }
 },
 "nbformat": 4,
 "nbformat_minor": 2
}
