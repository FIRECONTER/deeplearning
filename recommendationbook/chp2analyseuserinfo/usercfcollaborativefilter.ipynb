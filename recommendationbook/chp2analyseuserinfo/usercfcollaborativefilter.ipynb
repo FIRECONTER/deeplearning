{
 "cells": [
  {
   "cell_type": "code",
   "execution_count": 1,
   "metadata": {},
   "outputs": [
    {
     "data": {
      "text/plain": [
       "'\\nCollaborativefilter on the movielens web site.\\n\\nDescription:\\n    1) use the data set from movielens to realize the collaborative filter\\nAuthor:alex\\nTime:27/11/2017\\n'"
      ]
     },
     "execution_count": 1,
     "metadata": {},
     "output_type": "execute_result"
    }
   ],
   "source": [
    "\"\"\"\n",
    "Collaborativefilter on the movielens web site.\n",
    "\n",
    "Description:\n",
    "    1) use the data set from movielens to realize the collaborative filter\n",
    "Author:alex\n",
    "Time:27/11/2017\n",
    "\"\"\""
   ]
  },
  {
   "cell_type": "code",
   "execution_count": 2,
   "metadata": {
    "collapsed": true
   },
   "outputs": [],
   "source": [
    "import os\n",
    "import numpy as np\n",
    "import pandas as pd\n",
    "import datetime\n",
    "import scipy.sparse as sp"
   ]
  },
  {
   "cell_type": "code",
   "execution_count": 3,
   "metadata": {
    "collapsed": true
   },
   "outputs": [],
   "source": [
    "def splitdata(sampledata, M, K, seed):\n",
    "    \"\"\"\n",
    "    Generate the cross validation training data and validation data.\n",
    "\n",
    "    Description:\n",
    "        get M paire data for training and validation\n",
    "        cross validation\n",
    "    Parameter:\n",
    "        sampledata:\n",
    "            structure:[userid, viewlist, likelist]\n",
    "        M:\n",
    "        K:\n",
    "        seed:\n",
    "    \"\"\"\n",
    "    np.random.seed(seed)\n",
    "    validation_data = []\n",
    "    for item in sampledata:\n",
    "        if np.random.randint(0, M) == K:\n",
    "            validation_data.append(item)\n",
    "    return validation_data"
   ]
  },
  {
   "cell_type": "code",
   "execution_count": 4,
   "metadata": {
    "collapsed": true
   },
   "outputs": [],
   "source": [
    "def getrecommendation(user, W, N):\n",
    "    \"\"\"\n",
    "    Core function to get the best probability likely items for the user.\n",
    "\n",
    "    Description:\n",
    "        get the recommendation item list of the user\n",
    "    Parameters:\n",
    "\n",
    "    \"\"\"\n",
    "    pass"
   ]
  },
  {
   "cell_type": "code",
   "execution_count": 5,
   "metadata": {
    "collapsed": true
   },
   "outputs": [],
   "source": [
    "def recallrate(train_set, test_set, N):\n",
    "    \"\"\"\n",
    "    Calculate the recall rate of the module in collaborative filter.\n",
    "\n",
    "    Descriotion:\n",
    "        sum(R(u)&T(U))/sum(T(u))\n",
    "    \"\"\"\n",
    "    hitnum = 0\n",
    "    allnum = 0\n",
    "    for user in train_set.keys():\n",
    "        real_like = test_set[user]\n",
    "        rank = getrecommendation(user, N)\n",
    "        # rank is a sorted list contains the item and the probability\n",
    "        for item, pui in rank:\n",
    "            if item in real_like:\n",
    "                hitnum = hitnum+1\n",
    "        # add the real like items\n",
    "        allnum = allnum+len(real_list)\n",
    "    return hitnum/allnum"
   ]
  },
  {
   "cell_type": "code",
   "execution_count": 6,
   "metadata": {
    "collapsed": true
   },
   "outputs": [],
   "source": [
    "def precisionrate(train_set, test_set, N):\n",
    "    \"\"\"\n",
    "    Calculate the precision rate of the module in collaborative filter.\n",
    "\n",
    "    Description:\n",
    "        sum(R(u)&T(u))/sum(R(u))\n",
    "        general precision defination\n",
    "    \"\"\"\n",
    "    hitnum = 0\n",
    "    allnum = 0\n",
    "    for user in train_set.key():\n",
    "        real_like = test_set[user]\n",
    "        rank = getrecommendation(user, N)\n",
    "        allnum = allnum+N\n",
    "        for item, pui in rank:\n",
    "            if item in real_like:\n",
    "                hitnum = hitnum+1\n",
    "    return hitnum/allnum"
   ]
  },
  {
   "cell_type": "code",
   "execution_count": 7,
   "metadata": {
    "collapsed": true
   },
   "outputs": [],
   "source": [
    "def coveragerate(train_set, test_set, N):\n",
    "    \"\"\"\n",
    "    Galculate the coverage rate.\n",
    "\n",
    "    Description:\n",
    "        sum(all(recommendationtype))/allitems\n",
    "    \"\"\"\n",
    "    recomitem_set = set()\n",
    "    allitem_set = set()\n",
    "    for user in train_set.keys():\n",
    "        for item in train_set[user].keys():\n",
    "            allitem_set.add(item)\n",
    "        rank = getrecommendation(user, N)\n",
    "        for item, pui in rank:\n",
    "            recomitem_set.add(item)\n",
    "    return recomitem_set/allitem_set\n"
   ]
  },
  {
   "cell_type": "code",
   "execution_count": 8,
   "metadata": {
    "collapsed": true
   },
   "outputs": [],
   "source": [
    "def popularity(train_set, test_set, N):\n",
    "    \"\"\"\n",
    "    Calculate the popularity.\n",
    "\n",
    "    Description:\n",
    "        sum(log(popularity))/N focus on the recommendation items\n",
    "    \"\"\"\n",
    "    for user, items in train_set.items():\n",
    "        # calculate the popularity of each item in train_set\n",
    "        item_popularity = dict()\n",
    "        for item in items.keys():\n",
    "            if item not in item_popularity:\n",
    "                item_popularity[item] = 0\n",
    "            item_popularity[item] = item_popularity[item]+1\n",
    "        n = 0  # calculate all the recommendation items\n",
    "        po_sum = 0\n",
    "        rank = getrecommendation(user, N)\n",
    "        for item, pui in rank:\n",
    "            po_sum = po_sum+np.log(1+item_popularity[item])\n",
    "            # calculate each recommendation item's popularity\n",
    "            n = n+1\n",
    "        return po_sum/n"
   ]
  },
  {
   "cell_type": "code",
   "execution_count": 9,
   "metadata": {
    "collapsed": true
   },
   "outputs": [],
   "source": [
    "def usersimilarity(userid, viewlist):\n",
    "    \"\"\"\n",
    "    Calculate the similarity matrix of the user set.\n",
    "\n",
    "    Description:\n",
    "        each value in the matrix means the similarity between the two persons\n",
    "        there are to many methods to calculate the similarity between each user\n",
    "        we can choose the jaccard equation and the cosin similarity equation:\n",
    "            1)jaccard equation:\n",
    "                Wuv = |N(u)&N(v)|/|N(u)+N(v)|\n",
    "            2)consin equation:\n",
    "                Wuv = |N(u)&N(v)|/sqrt(|N(u)||N(v)|)\n",
    "    appendence:\n",
    "        the matrix is to huge we should use sparse matrix to save the matrix\n",
    "    \"\"\"\n",
    "    user_len = len(userid)\n",
    "    item_user = {}\n",
    "    start_time = datetime.datetime.now()\n",
    "    print('start to generate the item_user table %s ' % start_time)\n",
    "    for i in range(user_len):\n",
    "        curritemlist = viewlist[i]\n",
    "        for item in curritemlist:\n",
    "            if item not in item_user:\n",
    "                item_user[item] = []\n",
    "            item_user[item].append(userid[i])\n",
    "    end_time = datetime.datetime.now()\n",
    "    print('finish to generate the item_user table and cost time is %s' % (end_time-start_time))\n",
    "    # generate the sparse matrix\n",
    "    sparse_mat = sp.csr_matrix((user_len, user_len), dtype=np.uint8)\n",
    "    start_time = datetime.datetime.now()\n",
    "    print('begin to generate the sparse matrix %s ' % start_time)\n",
    "    for key in item_user.keys():\n",
    "        # userid list of current item\n",
    "        idlist = [userid.index(item) for item in item_user[key]]\n",
    "        for i in idlist:\n",
    "            for j in idlist:\n",
    "                if i == j:\n",
    "                    continue\n",
    "                if sparse_mat[i, j] == 0:\n",
    "                    sparse_mat[i, j] == 1\n",
    "                else:\n",
    "                    sparse_mat[i, j] = sparse_mat[i, j]+1\n",
    "    end_time = datetime.datetime.now()\n",
    "    print('finish generate the sparse matrix and cost time is %s ' % (end_time-start_time))\n",
    "    # finally calculate the similarity between each user\n",
    "    # get all the no-zero elements in the sparse matrix\n",
    "    # should change to the coo_matrix to get row and col\n",
    "    rowlist = sparse_mat.tocoo().row\n",
    "    collist = sparse_mat.tocoo().col\n",
    "    print('final calculate the similarity sparse matrix %s ' % start_time)\n",
    "    for i in rowlist:\n",
    "        for j in collist:\n",
    "            len_u = len(viewlist[i])\n",
    "            len_v = len(viewlist[j])\n",
    "            sparse_mat[i, j] = sparse_mat[i, j]/(np.sqrt(len_u*len_v))\n",
    "    end_time = datetime.datetime.now()\n",
    "    print('finally finish the similarity matrix %s ' % (end_time-start_time))\n",
    "    return sparse_mat"
   ]
  },
  {
   "cell_type": "code",
   "execution_count": 10,
   "metadata": {
    "collapsed": true
   },
   "outputs": [],
   "source": [
    "# tool functions"
   ]
  },
  {
   "cell_type": "code",
   "execution_count": 11,
   "metadata": {
    "collapsed": true
   },
   "outputs": [],
   "source": [
    "def strlisttolist(item):\n",
    "    \"\"\"Change the strlist to list.\"\"\"\n",
    "    tmp_list = item[1:len(item)-1].split(',')\n",
    "    return [int(item) for item in tmp_list]"
   ]
  },
  {
   "cell_type": "code",
   "execution_count": 12,
   "metadata": {
    "collapsed": true
   },
   "outputs": [],
   "source": [
    "# run the code"
   ]
  },
  {
   "cell_type": "code",
   "execution_count": 13,
   "metadata": {},
   "outputs": [],
   "source": [
    "SEED = 10\n",
    "M = 8\n",
    "datafolder = './cleandata'\n",
    "filename = 'user_movie.csv'\n",
    "columns = ['userId', 'viewlist', 'likelist']"
   ]
  },
  {
   "cell_type": "code",
   "execution_count": 14,
   "metadata": {
    "collapsed": true
   },
   "outputs": [],
   "source": [
    "# read data from csv\n",
    "inputdata = pd.read_csv(os.path.join(datafolder, filename), delimiter='|')"
   ]
  },
  {
   "cell_type": "code",
   "execution_count": 15,
   "metadata": {},
   "outputs": [
    {
     "name": "stdout",
     "output_type": "stream",
     "text": [
      "current data information\n",
      "138493\n"
     ]
    }
   ],
   "source": [
    "# load current data\n",
    "userId = list(inputdata['userId'].values)\n",
    "viewlist = [strlisttolist(item) for item in list(inputdata['viewlist'].values)]\n",
    "likelist = [strlisttolist(item) for item in list(inputdata['likelist'].values)]\n",
    "srcdata = list(zip(userId, viewlist, likelist))\n",
    "print('current data information')\n",
    "print(len(srcdata))"
   ]
  },
  {
   "cell_type": "code",
   "execution_count": null,
   "metadata": {},
   "outputs": [
    {
     "name": "stdout",
     "output_type": "stream",
     "text": [
      "start to generate the item_user table 2017-12-04 15:38:14.369469 \n",
      "finish to generate the item_user table and cost time is 0:00:06.542374\n",
      "begin to generate the sparse matrix 2017-12-04 15:38:20.911843 \n"
     ]
    }
   ],
   "source": [
    "# begin to train the model\n",
    "for i in range(M):\n",
    "    currval_data = splitdata(srcdata, M, i, SEED)\n",
    "    # generate the similarity matrix(sparse matrix)\n",
    "    W = usersimilarity(userId, viewlist)\n",
    "    # calculate the standard\n",
    "    break"
   ]
  },
  {
   "cell_type": "code",
   "execution_count": null,
   "metadata": {
    "collapsed": true
   },
   "outputs": [],
   "source": []
  }
 ],
 "metadata": {
  "kernelspec": {
   "display_name": "Python 3",
   "language": "python",
   "name": "python3"
  },
  "language_info": {
   "codemirror_mode": {
    "name": "ipython",
    "version": 3
   },
   "file_extension": ".py",
   "mimetype": "text/x-python",
   "name": "python",
   "nbconvert_exporter": "python",
   "pygments_lexer": "ipython3",
   "version": "3.6.0"
  }
 },
 "nbformat": 4,
 "nbformat_minor": 2
}
